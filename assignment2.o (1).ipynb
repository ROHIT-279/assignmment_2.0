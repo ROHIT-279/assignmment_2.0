{
 "cells": [
  {
   "cell_type": "code",
   "execution_count": 1,
   "id": "d8b3642b-6d55-4456-8db5-7ec83a6d8983",
   "metadata": {},
   "outputs": [],
   "source": [
    "#Q1."
   ]
  },
  {
   "cell_type": "code",
   "execution_count": 13,
   "id": "12f24094-77dd-46b8-92de-b37dee070b77",
   "metadata": {},
   "outputs": [],
   "source": [
    "#1.def \n",
    "#2.\n",
    "def odd_input(n):\n",
    "    l1 =[]   \n",
    "#n = int(input(\"ENTER A NUMBER\"))\n",
    "    for i in range(n):\n",
    "        if i % 2 == 1:\n",
    "            l1.append(i)\n",
    "    return l1   "
   ]
  },
  {
   "cell_type": "code",
   "execution_count": 14,
   "id": "17fb58ee-f5c7-40fa-afac-e2e4d19e7519",
   "metadata": {},
   "outputs": [
    {
     "data": {
      "text/plain": [
       "[1, 3, 5, 7, 9, 11, 13, 15, 17, 19, 21, 23, 25]"
      ]
     },
     "execution_count": 14,
     "metadata": {},
     "output_type": "execute_result"
    }
   ],
   "source": [
    "odd_input(26)"
   ]
  },
  {
   "cell_type": "code",
   "execution_count": 16,
   "id": "f8722d35-090f-4ea1-ac86-19b88dfefb4c",
   "metadata": {},
   "outputs": [],
   "source": [
    "#Q2.\n",
    "#1.*args and **kwargs are special syntax in Python that allow a function to accept a variable number of arguments. The *args syntax is used to pass a variable number of non-keyword arguments to a function, while **kwargs is used to pass a variable number of keyword arguments.\n",
    "#2. *args function\n",
    "def yellow(*args):\n",
    "    return args"
   ]
  },
  {
   "cell_type": "code",
   "execution_count": 18,
   "id": "5e683b57-d325-4b24-9536-2f0d62fafc6b",
   "metadata": {},
   "outputs": [
    {
     "data": {
      "text/plain": [
       "(2, 3, 45, 89.09, 'RADHA', 'KRISHNA')"
      ]
     },
     "execution_count": 18,
     "metadata": {},
     "output_type": "execute_result"
    }
   ],
   "source": [
    "yellow(2,3,45,89.09,\"RADHA\", \"KRISHNA\")"
   ]
  },
  {
   "cell_type": "code",
   "execution_count": 20,
   "id": "408601d8-f6cf-4e90-b726-f84da3c48b0e",
   "metadata": {},
   "outputs": [],
   "source": [
    "#2.**kwargs function\n",
    "def BLUE(**kwargs):\n",
    "    return kwargs"
   ]
  },
  {
   "cell_type": "code",
   "execution_count": 23,
   "id": "54bd8643-bbfe-4746-8c0f-ef3107d16fa5",
   "metadata": {},
   "outputs": [
    {
     "data": {
      "text/plain": [
       "{'NAME': 'RADHASHYAM', 'IDENTITY': 'SUPREME LORD', 'LOCATION': 'VAIKUNTHALOK'}"
      ]
     },
     "execution_count": 23,
     "metadata": {},
     "output_type": "execute_result"
    }
   ],
   "source": [
    "BLUE(NAME = \"RADHASHYAM\" , IDENTITY = \"SUPREME LORD\" , LOCATION = \"VAIKUNTHALOK\")"
   ]
  },
  {
   "cell_type": "code",
   "execution_count": 24,
   "id": "a95f24bb-1015-4133-87d2-76fd5edc6287",
   "metadata": {},
   "outputs": [],
   "source": [
    "#Q3. 1. In Python, an iterator is an object that allows you to traverse through a collection of items one at a time. The basic idea is that we can use an iterator to access the items in a collection without having to know the details of how the collection is implemented.\n",
    "#2. iter()\n",
    "#3.\n",
    "l1 = [2, 4, 6, 8, 10, 12, 14,16 ,18 ,20]"
   ]
  },
  {
   "cell_type": "code",
   "execution_count": 25,
   "id": "db83a446-2c90-4510-98c2-2519ece84f6b",
   "metadata": {},
   "outputs": [],
   "source": [
    "s1 = iter(l1)"
   ]
  },
  {
   "cell_type": "code",
   "execution_count": 28,
   "id": "a45c7096-a414-4729-a19f-e4ec542417e3",
   "metadata": {},
   "outputs": [
    {
     "data": {
      "text/plain": [
       "2"
      ]
     },
     "execution_count": 28,
     "metadata": {},
     "output_type": "execute_result"
    }
   ],
   "source": [
    "next(s1)"
   ]
  },
  {
   "cell_type": "code",
   "execution_count": 29,
   "id": "8c553cc9-7eb0-454d-8667-2c9fec5e6a1c",
   "metadata": {},
   "outputs": [
    {
     "data": {
      "text/plain": [
       "4"
      ]
     },
     "execution_count": 29,
     "metadata": {},
     "output_type": "execute_result"
    }
   ],
   "source": [
    "next(s1)"
   ]
  },
  {
   "cell_type": "code",
   "execution_count": 30,
   "id": "aac7a88d-c088-47a0-8d11-6b3a19ee59ab",
   "metadata": {},
   "outputs": [
    {
     "data": {
      "text/plain": [
       "6"
      ]
     },
     "execution_count": 30,
     "metadata": {},
     "output_type": "execute_result"
    }
   ],
   "source": [
    "next(s1)"
   ]
  },
  {
   "cell_type": "code",
   "execution_count": 31,
   "id": "97c39a4f-1a54-4468-9e60-b178ab1a2e7f",
   "metadata": {},
   "outputs": [
    {
     "data": {
      "text/plain": [
       "8"
      ]
     },
     "execution_count": 31,
     "metadata": {},
     "output_type": "execute_result"
    }
   ],
   "source": [
    "next(s1)"
   ]
  },
  {
   "cell_type": "code",
   "execution_count": 32,
   "id": "b4341e36-ba56-48df-82ca-beeb001cdec6",
   "metadata": {},
   "outputs": [
    {
     "data": {
      "text/plain": [
       "10"
      ]
     },
     "execution_count": 32,
     "metadata": {},
     "output_type": "execute_result"
    }
   ],
   "source": [
    "next(s1)"
   ]
  },
  {
   "cell_type": "code",
   "execution_count": 33,
   "id": "9fda4caf-f096-41ef-89f7-0f5d4b07008c",
   "metadata": {},
   "outputs": [],
   "source": [
    "#Q4. In Python, a generator function is a special type of function to generate a sequence of values on-the-fly, rather than returning them all at once as in a regular function."
   ]
  },
  {
   "cell_type": "code",
   "execution_count": 2,
   "id": "de59f3d8-9fe1-42cf-b3b5-df28e9077346",
   "metadata": {},
   "outputs": [],
   "source": [
    "def gener(n):\n",
    "    count = 1\n",
    "    while i <= n :\n",
    "        yield count\n",
    "        count = count +1  "
   ]
  },
  {
   "cell_type": "raw",
   "id": "926c70ef-51d7-4675-9dff-63fd62cb0627",
   "metadata": {},
   "source": []
  },
  {
   "cell_type": "code",
   "execution_count": 5,
   "id": "cbe95bd6-5a15-4089-a1ce-59c08c3b4b05",
   "metadata": {},
   "outputs": [
    {
     "data": {
      "text/plain": [
       "<generator object gener at 0x7f599c36ef80>"
      ]
     },
     "execution_count": 5,
     "metadata": {},
     "output_type": "execute_result"
    }
   ],
   "source": [
    "gener(10)"
   ]
  },
  {
   "cell_type": "code",
   "execution_count": 7,
   "id": "5983f9fa-8ebc-4e69-b40f-647a6b7cc8aa",
   "metadata": {},
   "outputs": [],
   "source": [
    "def primes():\n",
    "    \"\"\"Generator function that yields prime numbers less than 1000\"\"\"\n",
    "    primes_list = [2]\n",
    "    yield 2\n",
    "    \n",
    "    for num in range(3, 1000, 2):\n",
    "        if all(num % i != 0 for i in range(3, int(num ** 0.5) + 1, 2)):\n",
    "            primes_list.append(num)\n",
    "            yield num"
   ]
  },
  {
   "cell_type": "code",
   "execution_count": 10,
   "id": "0ceac3d7-d753-4074-ae72-178faee0a557",
   "metadata": {},
   "outputs": [
    {
     "name": "stdout",
     "output_type": "stream",
     "text": [
      "2\n",
      "3\n",
      "5\n",
      "7\n",
      "11\n",
      "13\n",
      "17\n",
      "19\n",
      "23\n",
      "29\n",
      "31\n",
      "37\n",
      "41\n",
      "43\n",
      "47\n",
      "53\n",
      "59\n",
      "61\n",
      "67\n",
      "71\n"
     ]
    }
   ],
   "source": [
    "prime_gen = primes()\n",
    "for i in range(20):\n",
    "    print(next(prime_gen))"
   ]
  },
  {
   "cell_type": "code",
   "execution_count": 6,
   "id": "8efcec8d-be11-4828-852b-fadff046d83d",
   "metadata": {},
   "outputs": [],
   "source": [
    "#Q6.\n",
    "def fibo(n):\n",
    "    a,b = 0,1\n",
    "    while a<=n:\n",
    "        yield a\n",
    "        a,b = b , a+b\n",
    "        "
   ]
  },
  {
   "cell_type": "code",
   "execution_count": 10,
   "id": "8cc48753-b2a0-4c48-9192-a73fae75240f",
   "metadata": {},
   "outputs": [
    {
     "name": "stdout",
     "output_type": "stream",
     "text": [
      "0\n",
      "1\n",
      "1\n",
      "2\n",
      "3\n",
      "5\n",
      "8\n",
      "13\n"
     ]
    }
   ],
   "source": [
    "for i in fibo(20):\n",
    "    print(i)"
   ]
  },
  {
   "cell_type": "code",
   "execution_count": 11,
   "id": "023b48b4-7c6a-45ed-9f52-1f83d2fab154",
   "metadata": {},
   "outputs": [
    {
     "name": "stdout",
     "output_type": "stream",
     "text": [
      "['P', 'W', 'S', 'K', 'I', 'L', 'L', 'S']\n"
     ]
    }
   ],
   "source": [
    "#Q7.\n",
    "l = \"PWSKILLS\"\n",
    "output = [char for char in l if char in \"PWSKILLS\"]\n",
    "print(output)"
   ]
  },
  {
   "cell_type": "code",
   "execution_count": 12,
   "id": "1a2b69b9-520d-423b-af09-d167e7e6ebc1",
   "metadata": {},
   "outputs": [
    {
     "name": "stdin",
     "output_type": "stream",
     "text": [
      "Enter a number:  1001\n"
     ]
    },
    {
     "name": "stdout",
     "output_type": "stream",
     "text": [
      "1001 is a Palindrome number.\n"
     ]
    }
   ],
   "source": [
    "#Q8.\n",
    "num = int(input(\"Enter a number: \"))\n",
    "temp = num\n",
    "reverse_num = 0\n",
    "\n",
    "while temp > 0:\n",
    "    digit = temp % 10\n",
    "    reverse_num = reverse_num * 10 + digit\n",
    "    temp //= 10\n",
    "\n",
    "if num == reverse_num:\n",
    "    print(f\"{num} is a Palindrome number.\")\n",
    "else:\n",
    "    print(f\"{num} is not a Palindrome number.\")\n"
   ]
  },
  {
   "cell_type": "code",
   "execution_count": 13,
   "id": "90f4202f-0a79-47b6-9ea5-0a473d1c8099",
   "metadata": {},
   "outputs": [
    {
     "name": "stdout",
     "output_type": "stream",
     "text": [
      "[1, 2, 3, 4, 5, 6, 7, 8, 9, 10, 11, 12, 13, 14, 15, 16, 17, 18, 19, 20, 21, 22, 23, 24, 25, 26, 27, 28, 29, 30, 31, 32, 33, 34, 35, 36, 37, 38, 39, 40, 41, 42, 43, 44, 45, 46, 47, 48, 49, 50, 51, 52, 53, 54, 55, 56, 57, 58, 59, 60, 61, 62, 63, 64, 65, 66, 67, 68, 69, 70, 71, 72, 73, 74, 75, 76, 77, 78, 79, 80, 81, 82, 83, 84, 85, 86, 87, 88, 89, 90, 91, 92, 93, 94, 95, 96, 97, 98, 99, 100]\n"
     ]
    }
   ],
   "source": [
    "#odd_number = [ num for num in range(1,101) if i%2 !=0]\n",
    "print(odd_number)"
   ]
  },
  {
   "cell_type": "code",
   "execution_count": null,
   "id": "4383c780-aa6d-4025-a4b6-2cb30d00ecbf",
   "metadata": {},
   "outputs": [],
   "source": []
  }
 ],
 "metadata": {
  "kernelspec": {
   "display_name": "Python 3 (ipykernel)",
   "language": "python",
   "name": "python3"
  },
  "language_info": {
   "codemirror_mode": {
    "name": "ipython",
    "version": 3
   },
   "file_extension": ".py",
   "mimetype": "text/x-python",
   "name": "python",
   "nbconvert_exporter": "python",
   "pygments_lexer": "ipython3",
   "version": "3.10.8"
  }
 },
 "nbformat": 4,
 "nbformat_minor": 5
}
